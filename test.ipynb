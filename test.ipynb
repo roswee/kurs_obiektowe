{
 "cells": [
  {
   "cell_type": "code",
   "execution_count": 1,
   "metadata": {},
   "outputs": [
    {
     "name": "stdout",
     "output_type": "stream",
     "text": [
      "Collecting pandasNote: you may need to restart the kernel to use updated packages.\n",
      "\n",
      "  Downloading pandas-2.2.1-cp311-cp311-win_amd64.whl.metadata (19 kB)\n",
      "Collecting numpy<2,>=1.23.2 (from pandas)\n",
      "  Downloading numpy-1.26.4-cp311-cp311-win_amd64.whl.metadata (61 kB)\n",
      "     ---------------------------------------- 0.0/61.0 kB ? eta -:--:--\n",
      "     ------------------- ------------------ 30.7/61.0 kB 640.0 kB/s eta 0:00:01\n",
      "     -------------------------------------- 61.0/61.0 kB 806.3 kB/s eta 0:00:00\n",
      "Requirement already satisfied: python-dateutil>=2.8.2 in c:\\users\\pawel\\documents\\kurs\\venv\\lib\\site-packages (from pandas) (2.9.0.post0)\n",
      "Collecting pytz>=2020.1 (from pandas)\n",
      "  Downloading pytz-2024.1-py2.py3-none-any.whl.metadata (22 kB)\n",
      "Collecting tzdata>=2022.7 (from pandas)\n",
      "  Downloading tzdata-2024.1-py2.py3-none-any.whl.metadata (1.4 kB)\n",
      "Requirement already satisfied: six>=1.5 in c:\\users\\pawel\\documents\\kurs\\venv\\lib\\site-packages (from python-dateutil>=2.8.2->pandas) (1.16.0)\n",
      "Downloading pandas-2.2.1-cp311-cp311-win_amd64.whl (11.6 MB)\n",
      "   ---------------------------------------- 0.0/11.6 MB ? eta -:--:--\n",
      "    --------------------------------------- 0.2/11.6 MB 7.3 MB/s eta 0:00:02\n",
      "   --- ------------------------------------ 1.0/11.6 MB 12.5 MB/s eta 0:00:01\n",
      "   --------- ------------------------------ 2.8/11.6 MB 22.2 MB/s eta 0:00:01\n",
      "   -------------------- ------------------- 5.9/11.6 MB 34.3 MB/s eta 0:00:01\n",
      "   -------------------------------- ------- 9.6/11.6 MB 43.6 MB/s eta 0:00:01\n",
      "   ---------------------------------------  11.6/11.6 MB 65.6 MB/s eta 0:00:01\n",
      "   ---------------------------------------- 11.6/11.6 MB 54.7 MB/s eta 0:00:00\n",
      "Downloading numpy-1.26.4-cp311-cp311-win_amd64.whl (15.8 MB)\n",
      "   ---------------------------------------- 0.0/15.8 MB ? eta -:--:--\n",
      "   ---------- ----------------------------- 4.1/15.8 MB 86.5 MB/s eta 0:00:01\n",
      "   ------------------- -------------------- 7.7/15.8 MB 81.8 MB/s eta 0:00:01\n",
      "   ---------------------------- ----------- 11.1/15.8 MB 81.8 MB/s eta 0:00:01\n",
      "   ----------------------------------- ---- 14.2/15.8 MB 81.8 MB/s eta 0:00:01\n",
      "   ---------------------------------------  15.8/15.8 MB 65.6 MB/s eta 0:00:01\n",
      "   ---------------------------------------- 15.8/15.8 MB 54.7 MB/s eta 0:00:00\n",
      "Downloading pytz-2024.1-py2.py3-none-any.whl (505 kB)\n",
      "   ---------------------------------------- 0.0/505.5 kB ? eta -:--:--\n",
      "   ---------------------------------------- 505.5/505.5 kB ? eta 0:00:00\n",
      "Downloading tzdata-2024.1-py2.py3-none-any.whl (345 kB)\n",
      "   ---------------------------------------- 0.0/345.4 kB ? eta -:--:--\n",
      "   ---------------------------------------- 345.4/345.4 kB ? eta 0:00:00\n",
      "Installing collected packages: pytz, tzdata, numpy, pandas\n",
      "Successfully installed numpy-1.26.4 pandas-2.2.1 pytz-2024.1 tzdata-2024.1\n"
     ]
    }
   ],
   "source": [
    "pip install pandas"
   ]
  },
  {
   "cell_type": "code",
   "execution_count": null,
   "metadata": {},
   "outputs": [],
   "source": [
    "a = (1,1)"
   ]
  },
  {
   "cell_type": "code",
   "execution_count": 6,
   "metadata": {},
   "outputs": [],
   "source": [
    "class complex:\n",
    "    def __init__(self,a,b):\n",
    "        self.a = a\n",
    "        self.b = b\n",
    "    def __add__(self,new):\n",
    "        sum_a = self.a + new.a\n",
    "        sum_b = self.b + new.b\n",
    "        return complex(sum_a, sum_b)\n",
    "    def __mul__(self, new):\n",
    "        mul_a = self.a * new.a - self.b * new.b\n",
    "        mul_b = self.a * new.b + self.b * new.a\n",
    "        return complex(mul_a, mul_b)\n",
    "    def show(self):\n",
    "        return f\"{self.a} + {self.b}i\"\n",
    "    def im(self):\n",
    "        return self.b\n",
    "    def re(self):\n",
    "        return self.a\n",
    "    def modulo(self):\n",
    "        return (self.a**2)"
   ]
  },
  {
   "cell_type": "code",
   "execution_count": 7,
   "metadata": {},
   "outputs": [
    {
     "data": {
      "text/plain": [
       "'1 + 2i'"
      ]
     },
     "execution_count": 7,
     "metadata": {},
     "output_type": "execute_result"
    }
   ],
   "source": [
    "complex(1,2).show()"
   ]
  }
 ],
 "metadata": {
  "kernelspec": {
   "display_name": "venv",
   "language": "python",
   "name": "python3"
  },
  "language_info": {
   "codemirror_mode": {
    "name": "ipython",
    "version": 3
   },
   "file_extension": ".py",
   "mimetype": "text/x-python",
   "name": "python",
   "nbconvert_exporter": "python",
   "pygments_lexer": "ipython3",
   "version": "3.11.8"
  }
 },
 "nbformat": 4,
 "nbformat_minor": 2
}
